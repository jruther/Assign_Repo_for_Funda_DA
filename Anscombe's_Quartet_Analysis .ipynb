{
 "cells": [
  {
   "cell_type": "markdown",
   "metadata": {},
   "source": [
    "#### Analysis of Anscombe's Quartet for Assignment Submission\n"
   ]
  },
  {
   "cell_type": "code",
   "execution_count": null,
   "metadata": {},
   "outputs": [],
   "source": []
  },
  {
   "cell_type": "markdown",
   "metadata": {},
   "source": [
    ".\n",
    "2. Plot the interesting aspects of the dataset.\n",
    "3. Calculate the descriptive statistics of the variables in the dataset.\n",
    "4. Explain why the dataset is interesting, referring to the plots and statistics above."
   ]
  },
  {
   "cell_type": "markdown",
   "metadata": {},
   "source": [
    "Q1. Explain the background to the dataset – who created it, when it was created, and\n",
    "any speculation you can find regarding how it might have been created"
   ]
  },
  {
   "cell_type": "markdown",
   "metadata": {},
   "source": [
    "The Anscombe's dataset was created by the statistician [John \"Frank\" Anscombe](https://en.wikipedia.org/wiki/Frank_Anscombe) in 1973.  The purpose of creating this dataset was to demonstrate the danger of interpreting data by exclusively using its descriptive statistics.  Anscombe illustrated through the creation of the dataset that four different sets of data could result in the slope of a line being equal.  As a proponent in the nacent field of statistical computing, Anscombe was of the view that data should be plotted first before analysing the dataset.  The result of the quartet he constructed clearly showed how outliers could effect statistical properties.  It brought a fundamental re-think to the widely accepted statistican's view of the exactness of numerial calculations."
   ]
  },
  {
   "cell_type": "code",
   "execution_count": null,
   "metadata": {},
   "outputs": [],
   "source": []
  },
  {
   "cell_type": "code",
   "execution_count": null,
   "metadata": {},
   "outputs": [],
   "source": []
  },
  {
   "cell_type": "markdown",
   "metadata": {},
   "source": []
  },
  {
   "cell_type": "code",
   "execution_count": null,
   "metadata": {},
   "outputs": [],
   "source": []
  },
  {
   "cell_type": "code",
   "execution_count": null,
   "metadata": {},
   "outputs": [],
   "source": []
  },
  {
   "cell_type": "code",
   "execution_count": null,
   "metadata": {},
   "outputs": [],
   "source": []
  },
  {
   "cell_type": "code",
   "execution_count": null,
   "metadata": {},
   "outputs": [],
   "source": []
  },
  {
   "cell_type": "code",
   "execution_count": null,
   "metadata": {},
   "outputs": [],
   "source": []
  },
  {
   "cell_type": "code",
   "execution_count": null,
   "metadata": {},
   "outputs": [],
   "source": []
  },
  {
   "cell_type": "code",
   "execution_count": 1,
   "metadata": {},
   "outputs": [],
   "source": [
    "import pandas as pd\n",
    "import numpy as np"
   ]
  },
  {
   "cell_type": "code",
   "execution_count": null,
   "metadata": {},
   "outputs": [],
   "source": []
  },
  {
   "cell_type": "code",
   "execution_count": 2,
   "metadata": {},
   "outputs": [],
   "source": [
    "df = pd.read_csv(\"Anscombe.csv\")"
   ]
  },
  {
   "cell_type": "code",
   "execution_count": 3,
   "metadata": {},
   "outputs": [
    {
     "data": {
      "text/html": [
       "<div>\n",
       "<style scoped>\n",
       "    .dataframe tbody tr th:only-of-type {\n",
       "        vertical-align: middle;\n",
       "    }\n",
       "\n",
       "    .dataframe tbody tr th {\n",
       "        vertical-align: top;\n",
       "    }\n",
       "\n",
       "    .dataframe thead th {\n",
       "        text-align: right;\n",
       "    }\n",
       "</style>\n",
       "<table border=\"1\" class=\"dataframe\">\n",
       "  <thead>\n",
       "    <tr style=\"text-align: right;\">\n",
       "      <th></th>\n",
       "      <th>X1</th>\n",
       "      <th>Y1</th>\n",
       "      <th>X2</th>\n",
       "      <th>Y2</th>\n",
       "      <th>X3</th>\n",
       "      <th>Y3</th>\n",
       "      <th>X4</th>\n",
       "      <th>Y4</th>\n",
       "    </tr>\n",
       "  </thead>\n",
       "  <tbody>\n",
       "    <tr>\n",
       "      <th>0</th>\n",
       "      <td>10</td>\n",
       "      <td>8.04</td>\n",
       "      <td>10</td>\n",
       "      <td>9.14</td>\n",
       "      <td>10</td>\n",
       "      <td>7.46</td>\n",
       "      <td>8</td>\n",
       "      <td>6.58</td>\n",
       "    </tr>\n",
       "    <tr>\n",
       "      <th>1</th>\n",
       "      <td>8</td>\n",
       "      <td>6.95</td>\n",
       "      <td>8</td>\n",
       "      <td>8.14</td>\n",
       "      <td>8</td>\n",
       "      <td>6.77</td>\n",
       "      <td>8</td>\n",
       "      <td>5.76</td>\n",
       "    </tr>\n",
       "    <tr>\n",
       "      <th>2</th>\n",
       "      <td>13</td>\n",
       "      <td>7.58</td>\n",
       "      <td>13</td>\n",
       "      <td>8.74</td>\n",
       "      <td>13</td>\n",
       "      <td>12.74</td>\n",
       "      <td>8</td>\n",
       "      <td>7.71</td>\n",
       "    </tr>\n",
       "    <tr>\n",
       "      <th>3</th>\n",
       "      <td>9</td>\n",
       "      <td>8.81</td>\n",
       "      <td>9</td>\n",
       "      <td>8.77</td>\n",
       "      <td>9</td>\n",
       "      <td>7.11</td>\n",
       "      <td>8</td>\n",
       "      <td>8.84</td>\n",
       "    </tr>\n",
       "    <tr>\n",
       "      <th>4</th>\n",
       "      <td>11</td>\n",
       "      <td>8.33</td>\n",
       "      <td>11</td>\n",
       "      <td>9.26</td>\n",
       "      <td>11</td>\n",
       "      <td>7.81</td>\n",
       "      <td>8</td>\n",
       "      <td>8.47</td>\n",
       "    </tr>\n",
       "    <tr>\n",
       "      <th>5</th>\n",
       "      <td>14</td>\n",
       "      <td>9.96</td>\n",
       "      <td>14</td>\n",
       "      <td>8.10</td>\n",
       "      <td>14</td>\n",
       "      <td>8.84</td>\n",
       "      <td>8</td>\n",
       "      <td>7.04</td>\n",
       "    </tr>\n",
       "    <tr>\n",
       "      <th>6</th>\n",
       "      <td>6</td>\n",
       "      <td>7.24</td>\n",
       "      <td>6</td>\n",
       "      <td>6.13</td>\n",
       "      <td>6</td>\n",
       "      <td>6.08</td>\n",
       "      <td>8</td>\n",
       "      <td>5.25</td>\n",
       "    </tr>\n",
       "    <tr>\n",
       "      <th>7</th>\n",
       "      <td>4</td>\n",
       "      <td>4.26</td>\n",
       "      <td>4</td>\n",
       "      <td>3.10</td>\n",
       "      <td>4</td>\n",
       "      <td>5.39</td>\n",
       "      <td>19</td>\n",
       "      <td>12.50</td>\n",
       "    </tr>\n",
       "    <tr>\n",
       "      <th>8</th>\n",
       "      <td>12</td>\n",
       "      <td>10.84</td>\n",
       "      <td>12</td>\n",
       "      <td>9.13</td>\n",
       "      <td>12</td>\n",
       "      <td>8.15</td>\n",
       "      <td>8</td>\n",
       "      <td>5.56</td>\n",
       "    </tr>\n",
       "    <tr>\n",
       "      <th>9</th>\n",
       "      <td>7</td>\n",
       "      <td>4.82</td>\n",
       "      <td>7</td>\n",
       "      <td>7.26</td>\n",
       "      <td>7</td>\n",
       "      <td>6.42</td>\n",
       "      <td>8</td>\n",
       "      <td>7.91</td>\n",
       "    </tr>\n",
       "    <tr>\n",
       "      <th>10</th>\n",
       "      <td>5</td>\n",
       "      <td>5.68</td>\n",
       "      <td>5</td>\n",
       "      <td>4.74</td>\n",
       "      <td>5</td>\n",
       "      <td>5.73</td>\n",
       "      <td>8</td>\n",
       "      <td>6.89</td>\n",
       "    </tr>\n",
       "  </tbody>\n",
       "</table>\n",
       "</div>"
      ],
      "text/plain": [
       "    X1     Y1  X2    Y2  X3     Y3  X4     Y4\n",
       "0   10   8.04  10  9.14  10   7.46   8   6.58\n",
       "1    8   6.95   8  8.14   8   6.77   8   5.76\n",
       "2   13   7.58  13  8.74  13  12.74   8   7.71\n",
       "3    9   8.81   9  8.77   9   7.11   8   8.84\n",
       "4   11   8.33  11  9.26  11   7.81   8   8.47\n",
       "5   14   9.96  14  8.10  14   8.84   8   7.04\n",
       "6    6   7.24   6  6.13   6   6.08   8   5.25\n",
       "7    4   4.26   4  3.10   4   5.39  19  12.50\n",
       "8   12  10.84  12  9.13  12   8.15   8   5.56\n",
       "9    7   4.82   7  7.26   7   6.42   8   7.91\n",
       "10   5   5.68   5  4.74   5   5.73   8   6.89"
      ]
     },
     "execution_count": 3,
     "metadata": {},
     "output_type": "execute_result"
    }
   ],
   "source": [
    "df"
   ]
  },
  {
   "cell_type": "code",
   "execution_count": 4,
   "metadata": {},
   "outputs": [
    {
     "data": {
      "text/html": [
       "<div>\n",
       "<style scoped>\n",
       "    .dataframe tbody tr th:only-of-type {\n",
       "        vertical-align: middle;\n",
       "    }\n",
       "\n",
       "    .dataframe tbody tr th {\n",
       "        vertical-align: top;\n",
       "    }\n",
       "\n",
       "    .dataframe thead th {\n",
       "        text-align: right;\n",
       "    }\n",
       "</style>\n",
       "<table border=\"1\" class=\"dataframe\">\n",
       "  <thead>\n",
       "    <tr style=\"text-align: right;\">\n",
       "      <th></th>\n",
       "      <th>X1</th>\n",
       "      <th>Y1</th>\n",
       "      <th>X2</th>\n",
       "      <th>Y2</th>\n",
       "      <th>X3</th>\n",
       "      <th>Y3</th>\n",
       "      <th>X4</th>\n",
       "      <th>Y4</th>\n",
       "    </tr>\n",
       "  </thead>\n",
       "  <tbody>\n",
       "    <tr>\n",
       "      <th>count</th>\n",
       "      <td>11.000000</td>\n",
       "      <td>11.000000</td>\n",
       "      <td>11.000000</td>\n",
       "      <td>11.000000</td>\n",
       "      <td>11.000000</td>\n",
       "      <td>11.000000</td>\n",
       "      <td>11.000000</td>\n",
       "      <td>11.000000</td>\n",
       "    </tr>\n",
       "    <tr>\n",
       "      <th>mean</th>\n",
       "      <td>9.000000</td>\n",
       "      <td>7.500909</td>\n",
       "      <td>9.000000</td>\n",
       "      <td>7.500909</td>\n",
       "      <td>9.000000</td>\n",
       "      <td>7.500000</td>\n",
       "      <td>9.000000</td>\n",
       "      <td>7.500909</td>\n",
       "    </tr>\n",
       "    <tr>\n",
       "      <th>std</th>\n",
       "      <td>3.316625</td>\n",
       "      <td>2.031568</td>\n",
       "      <td>3.316625</td>\n",
       "      <td>2.031657</td>\n",
       "      <td>3.316625</td>\n",
       "      <td>2.030424</td>\n",
       "      <td>3.316625</td>\n",
       "      <td>2.030579</td>\n",
       "    </tr>\n",
       "    <tr>\n",
       "      <th>min</th>\n",
       "      <td>4.000000</td>\n",
       "      <td>4.260000</td>\n",
       "      <td>4.000000</td>\n",
       "      <td>3.100000</td>\n",
       "      <td>4.000000</td>\n",
       "      <td>5.390000</td>\n",
       "      <td>8.000000</td>\n",
       "      <td>5.250000</td>\n",
       "    </tr>\n",
       "    <tr>\n",
       "      <th>25%</th>\n",
       "      <td>6.500000</td>\n",
       "      <td>6.315000</td>\n",
       "      <td>6.500000</td>\n",
       "      <td>6.695000</td>\n",
       "      <td>6.500000</td>\n",
       "      <td>6.250000</td>\n",
       "      <td>8.000000</td>\n",
       "      <td>6.170000</td>\n",
       "    </tr>\n",
       "    <tr>\n",
       "      <th>50%</th>\n",
       "      <td>9.000000</td>\n",
       "      <td>7.580000</td>\n",
       "      <td>9.000000</td>\n",
       "      <td>8.140000</td>\n",
       "      <td>9.000000</td>\n",
       "      <td>7.110000</td>\n",
       "      <td>8.000000</td>\n",
       "      <td>7.040000</td>\n",
       "    </tr>\n",
       "    <tr>\n",
       "      <th>75%</th>\n",
       "      <td>11.500000</td>\n",
       "      <td>8.570000</td>\n",
       "      <td>11.500000</td>\n",
       "      <td>8.950000</td>\n",
       "      <td>11.500000</td>\n",
       "      <td>7.980000</td>\n",
       "      <td>8.000000</td>\n",
       "      <td>8.190000</td>\n",
       "    </tr>\n",
       "    <tr>\n",
       "      <th>max</th>\n",
       "      <td>14.000000</td>\n",
       "      <td>10.840000</td>\n",
       "      <td>14.000000</td>\n",
       "      <td>9.260000</td>\n",
       "      <td>14.000000</td>\n",
       "      <td>12.740000</td>\n",
       "      <td>19.000000</td>\n",
       "      <td>12.500000</td>\n",
       "    </tr>\n",
       "  </tbody>\n",
       "</table>\n",
       "</div>"
      ],
      "text/plain": [
       "              X1         Y1         X2         Y2         X3         Y3  \\\n",
       "count  11.000000  11.000000  11.000000  11.000000  11.000000  11.000000   \n",
       "mean    9.000000   7.500909   9.000000   7.500909   9.000000   7.500000   \n",
       "std     3.316625   2.031568   3.316625   2.031657   3.316625   2.030424   \n",
       "min     4.000000   4.260000   4.000000   3.100000   4.000000   5.390000   \n",
       "25%     6.500000   6.315000   6.500000   6.695000   6.500000   6.250000   \n",
       "50%     9.000000   7.580000   9.000000   8.140000   9.000000   7.110000   \n",
       "75%    11.500000   8.570000  11.500000   8.950000  11.500000   7.980000   \n",
       "max    14.000000  10.840000  14.000000   9.260000  14.000000  12.740000   \n",
       "\n",
       "              X4         Y4  \n",
       "count  11.000000  11.000000  \n",
       "mean    9.000000   7.500909  \n",
       "std     3.316625   2.030579  \n",
       "min     8.000000   5.250000  \n",
       "25%     8.000000   6.170000  \n",
       "50%     8.000000   7.040000  \n",
       "75%     8.000000   8.190000  \n",
       "max    19.000000  12.500000  "
      ]
     },
     "execution_count": 4,
     "metadata": {},
     "output_type": "execute_result"
    }
   ],
   "source": [
    "df.describe()"
   ]
  },
  {
   "cell_type": "markdown",
   "metadata": {},
   "source": [
    "####   Further analysis of the dataset"
   ]
  },
  {
   "cell_type": "code",
   "execution_count": 5,
   "metadata": {},
   "outputs": [
    {
     "data": {
      "text/html": [
       "<div>\n",
       "<style scoped>\n",
       "    .dataframe tbody tr th:only-of-type {\n",
       "        vertical-align: middle;\n",
       "    }\n",
       "\n",
       "    .dataframe tbody tr th {\n",
       "        vertical-align: top;\n",
       "    }\n",
       "\n",
       "    .dataframe thead th {\n",
       "        text-align: right;\n",
       "    }\n",
       "</style>\n",
       "<table border=\"1\" class=\"dataframe\">\n",
       "  <thead>\n",
       "    <tr style=\"text-align: right;\">\n",
       "      <th></th>\n",
       "      <th>X1</th>\n",
       "    </tr>\n",
       "  </thead>\n",
       "  <tbody>\n",
       "    <tr>\n",
       "      <th>0</th>\n",
       "      <td>10</td>\n",
       "    </tr>\n",
       "    <tr>\n",
       "      <th>1</th>\n",
       "      <td>8</td>\n",
       "    </tr>\n",
       "    <tr>\n",
       "      <th>2</th>\n",
       "      <td>13</td>\n",
       "    </tr>\n",
       "    <tr>\n",
       "      <th>3</th>\n",
       "      <td>9</td>\n",
       "    </tr>\n",
       "    <tr>\n",
       "      <th>4</th>\n",
       "      <td>11</td>\n",
       "    </tr>\n",
       "    <tr>\n",
       "      <th>5</th>\n",
       "      <td>14</td>\n",
       "    </tr>\n",
       "    <tr>\n",
       "      <th>6</th>\n",
       "      <td>6</td>\n",
       "    </tr>\n",
       "    <tr>\n",
       "      <th>7</th>\n",
       "      <td>4</td>\n",
       "    </tr>\n",
       "    <tr>\n",
       "      <th>8</th>\n",
       "      <td>12</td>\n",
       "    </tr>\n",
       "    <tr>\n",
       "      <th>9</th>\n",
       "      <td>7</td>\n",
       "    </tr>\n",
       "    <tr>\n",
       "      <th>10</th>\n",
       "      <td>5</td>\n",
       "    </tr>\n",
       "  </tbody>\n",
       "</table>\n",
       "</div>"
      ],
      "text/plain": [
       "    X1\n",
       "0   10\n",
       "1    8\n",
       "2   13\n",
       "3    9\n",
       "4   11\n",
       "5   14\n",
       "6    6\n",
       "7    4\n",
       "8   12\n",
       "9    7\n",
       "10   5"
      ]
     },
     "execution_count": 5,
     "metadata": {},
     "output_type": "execute_result"
    }
   ],
   "source": [
    "#We will first extract the relevant data, plot the individual Quartets and shortname them Q1, Q2, Q3, Q4.\n",
    "#Starting with Q1 represented above by X1,Y1\n",
    "#To pull out the relevant data we use the iloc function from pandas\n",
    "X1 = df.iloc[:,0:1]\n",
    "X1"
   ]
  },
  {
   "cell_type": "code",
   "execution_count": 6,
   "metadata": {},
   "outputs": [
    {
     "data": {
      "text/plain": [
       "[10, 8, 13, 9, 11, 14, 6, 4, 12, 7, 5]"
      ]
     },
     "execution_count": 6,
     "metadata": {},
     "output_type": "execute_result"
    }
   ],
   "source": [
    "#The iloc function returns a slice of rows and colums, so we need to modify it to a list.\n",
    "X1 = df[\"X1\"].tolist()\n",
    "X1"
   ]
  },
  {
   "cell_type": "code",
   "execution_count": 7,
   "metadata": {},
   "outputs": [],
   "source": [
    "Y1 = df.iloc[:,1:2]"
   ]
  },
  {
   "cell_type": "code",
   "execution_count": 8,
   "metadata": {},
   "outputs": [],
   "source": [
    "Y1 = df[\"Y1\"].tolist()"
   ]
  },
  {
   "cell_type": "code",
   "execution_count": 9,
   "metadata": {},
   "outputs": [
    {
     "data": {
      "text/plain": [
       "[8.04, 6.95, 7.58, 8.81, 8.33, 9.96, 7.24, 4.26, 10.84, 4.82, 5.68]"
      ]
     },
     "execution_count": 9,
     "metadata": {},
     "output_type": "execute_result"
    }
   ],
   "source": [
    "Y1"
   ]
  },
  {
   "cell_type": "code",
   "execution_count": 10,
   "metadata": {},
   "outputs": [
    {
     "data": {
      "text/plain": [
       "Text(0,0.5,'Y1')"
      ]
     },
     "execution_count": 10,
     "metadata": {},
     "output_type": "execute_result"
    }
   ],
   "source": [
    "#We will use Matplotlib to plot our x & y coordinates\n",
    "import matplotlib.pyplot as plt \n",
    "plt.plot([X1],[Y1], 'r.')\n",
    "plt.xlabel('X1')\n",
    "plt.ylabel('Y1')\n"
   ]
  },
  {
   "cell_type": "code",
   "execution_count": 11,
   "metadata": {},
   "outputs": [
    {
     "data": {
      "text/plain": [
       "array([0.50009091, 3.00009091])"
      ]
     },
     "execution_count": 11,
     "metadata": {},
     "output_type": "execute_result"
    }
   ],
   "source": [
    "np.polyfit(X1,Y1,1)"
   ]
  },
  {
   "cell_type": "code",
   "execution_count": 12,
   "metadata": {},
   "outputs": [],
   "source": [
    "#We assign the values from the ployfit function as 'm' & 'c' to calcuate the slope and plot the best fit line further down\n",
    "m = 0.50009091\n",
    "c = 3.00009091"
   ]
  },
  {
   "cell_type": "code",
   "execution_count": 13,
   "metadata": {},
   "outputs": [
    {
     "data": {
      "text/plain": [
       "array([10,  8, 13,  9, 11, 14,  6,  4, 12,  7,  5])"
      ]
     },
     "execution_count": 13,
     "metadata": {},
     "output_type": "execute_result"
    }
   ],
   "source": [
    "#Ployfit can't work with non-integer type of lists, so we change our list to an array as follows;\n",
    "X1 = np.asarray(X1)\n",
    "X1"
   ]
  },
  {
   "cell_type": "code",
   "execution_count": 14,
   "metadata": {},
   "outputs": [
    {
     "data": {
      "text/plain": [
       "array([ 8.04,  6.95,  7.58,  8.81,  8.33,  9.96,  7.24,  4.26, 10.84,\n",
       "        4.82,  5.68])"
      ]
     },
     "execution_count": 14,
     "metadata": {},
     "output_type": "execute_result"
    }
   ],
   "source": [
    "Y1 = np.asarray(Y1)\n",
    "Y1"
   ]
  },
  {
   "cell_type": "code",
   "execution_count": 15,
   "metadata": {},
   "outputs": [
    {
     "data": {
      "image/png": "[encoded data removed]",
      "text/plain": [
       "<Figure size 432x288 with 1 Axes>"
      ]
     },
     "metadata": {},
     "output_type": "display_data"
    }
   ],
   "source": [
    "#Plot the best fit line and label the graphic with axes labels and a legend\n",
    "plt.plot(X1,Y1,'r.',label='Q1')\n",
    "plt.plot(X1,m*X1+c, 'b-', label = 'Best fit line')\n",
    "plt.xlabel('X1')\n",
    "plt.ylabel('Y1')\n",
    "plt.legend()\n",
    "plt.show()"
   ]
  },
  {
   "cell_type": "code",
   "execution_count": 16,
   "metadata": {},
   "outputs": [
    {
     "data": {
      "text/plain": [
       "array([10,  8, 13,  9, 11, 14,  6,  4, 12,  7,  5])"
      ]
     },
     "execution_count": 16,
     "metadata": {},
     "output_type": "execute_result"
    }
   ],
   "source": [
    "#Now let us look at the 2nd Quartet or Q2 using the workflow from above\n",
    "#This time we will jump to an array format a little sooner (as we know a little more about polyfit)\n",
    "X2 = df.iloc[0:10,2:3]\n",
    "X2 = df[\"X2\"].tolist()\n",
    "X2 = np.asarray(X2)\n",
    "X2"
   ]
  },
  {
   "cell_type": "code",
   "execution_count": 17,
   "metadata": {},
   "outputs": [
    {
     "data": {
      "text/plain": [
       "array([9.14, 8.14, 8.74, 8.77, 9.26, 8.1 , 6.13, 3.1 , 9.13, 7.26, 4.74])"
      ]
     },
     "execution_count": 17,
     "metadata": {},
     "output_type": "execute_result"
    }
   ],
   "source": [
    "Y2 = df.iloc[0:10,3:4]\n",
    "Y2 = df['Y2'].tolist()\n",
    "Y2 = np.asarray(Y2)\n",
    "Y2"
   ]
  },
  {
   "cell_type": "code",
   "execution_count": 18,
   "metadata": {},
   "outputs": [
    {
     "data": {
      "text/plain": [
       "array([0.5       , 3.00090909])"
      ]
     },
     "execution_count": 18,
     "metadata": {},
     "output_type": "execute_result"
    }
   ],
   "source": [
    "np.polyfit(X2,Y2,1)"
   ]
  },
  {
   "cell_type": "code",
   "execution_count": 19,
   "metadata": {},
   "outputs": [
    {
     "data": {
      "image/png": "[encoded data removed]",
      "text/plain": [
       "<Figure size 432x288 with 1 Axes>"
      ]
     },
     "metadata": {},
     "output_type": "display_data"
    }
   ],
   "source": [
    "plt.plot(X2,Y2,'r.',label='Q2')\n",
    "plt.plot(X2,m*X2+c, 'b-', label = 'Best fit line')\n",
    "plt.xlabel('X2')\n",
    "plt.ylabel('Y2')\n",
    "plt.legend()\n",
    "plt.show()"
   ]
  },
  {
   "cell_type": "code",
   "execution_count": 20,
   "metadata": {},
   "outputs": [
    {
     "data": {
      "text/plain": [
       "array([10,  8, 13,  9, 11, 14,  6,  4, 12,  7,  5])"
      ]
     },
     "execution_count": 20,
     "metadata": {},
     "output_type": "execute_result"
    }
   ],
   "source": [
    "#Now let us look at the 3rd Quartet or Q3 using the workflow from Q2.\n",
    "X3 = df.iloc[0:10,4:5]\n",
    "X3 = df[\"X3\"].tolist()\n",
    "X3 = np.asarray(X3)\n",
    "X3"
   ]
  },
  {
   "cell_type": "code",
   "execution_count": 21,
   "metadata": {},
   "outputs": [
    {
     "data": {
      "text/plain": [
       "array([ 7.46,  6.77, 12.74,  7.11,  7.81,  8.84,  6.08,  5.39,  8.15,\n",
       "        6.42,  5.73])"
      ]
     },
     "execution_count": 21,
     "metadata": {},
     "output_type": "execute_result"
    }
   ],
   "source": [
    "Y3 = df.iloc[0:10,5:6]\n",
    "Y3 = df[\"Y3\"].tolist()\n",
    "Y3 = np.asarray(Y3)\n",
    "Y3"
   ]
  },
  {
   "cell_type": "code",
   "execution_count": 22,
   "metadata": {},
   "outputs": [
    {
     "data": {
      "text/plain": [
       "array([0.49972727, 3.00245455])"
      ]
     },
     "execution_count": 22,
     "metadata": {},
     "output_type": "execute_result"
    }
   ],
   "source": [
    "np.polyfit(X3,Y3,1)"
   ]
  },
  {
   "cell_type": "code",
   "execution_count": 23,
   "metadata": {},
   "outputs": [
    {
     "data": {
      "image/png": "[encoded data removed]",
      "text/plain": [
       "<Figure size 432x288 with 1 Axes>"
      ]
     },
     "metadata": {},
     "output_type": "display_data"
    }
   ],
   "source": [
    "plt.plot(X3,Y3,'r.',label='Q3')\n",
    "plt.plot(X3,m*X3+c, 'b-', label = 'Best fit line')\n",
    "plt.xlabel('X3')\n",
    "plt.ylabel('Y3')\n",
    "plt.legend()\n",
    "plt.show()"
   ]
  },
  {
   "cell_type": "code",
   "execution_count": 24,
   "metadata": {},
   "outputs": [
    {
     "data": {
      "text/plain": [
       "array([ 8,  8,  8,  8,  8,  8,  8, 19,  8,  8,  8])"
      ]
     },
     "execution_count": 24,
     "metadata": {},
     "output_type": "execute_result"
    }
   ],
   "source": [
    "#Now let us look at the 4th Quartet or Q4 using the workflow from Q2.\n",
    "X4 = df.iloc[0:10,6:7]\n",
    "X4 = df[\"X4\"].tolist()\n",
    "X4 = np.asarray(X4)\n",
    "X4"
   ]
  },
  {
   "cell_type": "code",
   "execution_count": 25,
   "metadata": {},
   "outputs": [
    {
     "data": {
      "text/plain": [
       "array([ 6.58,  5.76,  7.71,  8.84,  8.47,  7.04,  5.25, 12.5 ,  5.56,\n",
       "        7.91,  6.89])"
      ]
     },
     "execution_count": 25,
     "metadata": {},
     "output_type": "execute_result"
    }
   ],
   "source": [
    "Y4 = df.iloc[0:10,7:8]\n",
    "Y4 = df[\"Y4\"].tolist()\n",
    "Y4 = np.asarray(Y4)\n",
    "Y4"
   ]
  },
  {
   "cell_type": "code",
   "execution_count": 26,
   "metadata": {},
   "outputs": [
    {
     "data": {
      "text/plain": [
       "array([0.49990909, 3.00172727])"
      ]
     },
     "execution_count": 26,
     "metadata": {},
     "output_type": "execute_result"
    }
   ],
   "source": [
    "np.polyfit(X4,Y4,1)"
   ]
  },
  {
   "cell_type": "code",
   "execution_count": 27,
   "metadata": {},
   "outputs": [
    {
     "data": {
      "image/png": "[encoded data removed]",
      "text/plain": [
       "<Figure size 432x288 with 1 Axes>"
      ]
     },
     "metadata": {},
     "output_type": "display_data"
    }
   ],
   "source": [
    "plt.plot(X4,Y4,'r.',label='Q4')\n",
    "plt.plot(X4,m*X4+c, 'b-', label = 'Best fit line')\n",
    "plt.xlabel('X4')\n",
    "plt.ylabel('Y4')\n",
    "plt.legend()\n",
    "plt.show()"
   ]
  },
  {
   "cell_type": "code",
   "execution_count": 45,
   "metadata": {},
   "outputs": [
    {
     "data": {
      "image/png": "[encoded data removed]",
      "text/plain": [
       "<Figure size 432x288 with 1 Axes>"
      ]
     },
     "metadata": {},
     "output_type": "display_data"
    }
   ],
   "source": [
    "#Lets have a look at plotting all the x y coordinates on a single plot along witht he slope.\n",
    "plt.plot(X1,Y1,'bs',label='Q1')\n",
    "plt.plot(X1,m*X1+c, 'y-',)\n",
    "plt.plot(X2,Y2,'k.',label='Q2')\n",
    "plt.plot(X2,m*X2+c, 'y-',)\n",
    "plt.plot(X3,Y3,'g^',label='Q3')\n",
    "plt.plot(X3,m*X3+c, 'y-',)\n",
    "plt.plot(X4,Y4,'r.',label='Q4')\n",
    "plt.plot(X4,m*X4+c, 'y-',)\n",
    "plt.xlabel('X1- X4')\n",
    "plt.ylabel('Y1-Y4')\n",
    "plt.legend()\n",
    "plt.show()"
   ]
  },
  {
   "cell_type": "code",
   "execution_count": null,
   "metadata": {},
   "outputs": [],
   "source": []
  }
 ],
 "metadata": {
  "kernelspec": {
   "display_name": "Python 3",
   "language": "python",
   "name": "python3"
  },
  "language_info": {
   "codemirror_mode": {
    "name": "ipython",
    "version": 3
   },
   "file_extension": ".py",
   "mimetype": "text/x-python",
   "name": "python",
   "nbconvert_exporter": "python",
   "pygments_lexer": "ipython3",
   "version": "3.6.5"
  }
 },
 "nbformat": 4,
 "nbformat_minor": 2
}
